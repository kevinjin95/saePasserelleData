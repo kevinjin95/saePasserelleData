{
 "cells": [
  {
   "cell_type": "markdown",
   "id": "continuous-certificate",
   "metadata": {},
   "source": [
    "<div id=\"haut2page\" style=\"border:3px solid black; padding:3%; font-size:314% ; text-align:center; background-color:rgba(255, 0, 0, 0.57);\">\n",
    "    PANDAS\n",
    "</div>\n",
    "\n",
    "<details>\n",
    "    <summary><strong style=\"font-size:1.414em\">Technologie jupyter</strong></summary>\n",
    "<p>\n",
    "    La technologie <em>jupyter</em> permet d'exécuter du code python par un simple clique sur <em>Executer</em> ci-dessus.<br> \n",
    "    Les morceaux de code de cette page sont interprétées case par case. Pour savoir quelle case a été interprétée avant une autre, il suffit de repérer le numéro devant la case. <br>\n",
    "    Une fois qu'une case a été interprétée (=exécutée), la page garde en mémoire les variables et fonctions lues<br>\n",
    "    La plateforme propose quelques outils de purge de la mémoire : \n",
    "    <ul>\n",
    "    <li>Il est possible de tout recommencer (dénuméroter) en choisissant dans le menu <em>Kernel</em> ci-dessus <em>Restart & Clear Output</em> pour purger la mémoire de toutes ses variables et de toutes ses executions </li> \n",
    "    <li>Dans le menu <em>Kernel</em> choisir <em>Restard & Run All</em> aura le même effet que <em>Restart & Clear Output</em> mais en plus relancera chacune des cases depuis le haut du document jusqu'en bas (renuméroter).</li>\n",
    "    </ul>\n",
    "</p>\n",
    "<div style=\"background-color:rgba(255, 0, 0, 0.19);padding:3%;\">\n",
    "    <h3 style=\"color:red;\">SAUVEGARDER VOTRE TRAVAIL</h3>\n",
    "    <p>\n",
    "        Pour ne pas perdre votre travail pensez à le sauvegarder régulièrement. Par défault, la sauvegarde par un clic sur la disquette en haut à gauche de page, ou par le racourci clavier classique <code>ctrl+S</code>\n",
    "    est une sauvegarde en local, sur le serveur de jupyter. Vous pouvez et devez très régulièrement sauvegarder votre travail sur votre support personnel de sauvegarde (clef USB, se l'envoyer par mail etc). Ce faisant vous disposerez d'un fichier  .ipynb (IPYthon NoteBook) qu'il vous suffira de recharger  pour avancer. Après le rechargement assurez vous que les fonctionnalités anciennement developpées et variables utilisées sont bien <em>dans la mémoire de la page</em> (en rééxecutant les cases, ou plus rapidement par <em>Kernel &gt; Restart & Run All</em>.</p>\n",
    "    <p> A NOTER : vous pouvez travailler sur le tp (et tout autre fichier .ipynb) hors connexion en installant une version local du notebook de jupyter. Il faut que votre machine possède un interpreteur de python et que vous soyez connecter à internet.\n",
    "        <ol>\n",
    "            <li>Lancer un terminal</li>\n",
    "            <li>Taper la commande suivante : <code>pip install jupyterlab</code></li>\n",
    "            <li>Une fois l'installation terminée portez votre attention sur les dernières lignes affichées dans votre terminal vous invitant probablement à taper une ligne de commande pour faire une mise à jour</li>\n",
    "            <li>Pour lancer notebook de jupyter, taper dans votre termial : <code>jupyter notebook</code></li>\n",
    "            <li>Votre simulateur de serveur est lancé. Il ne faut pas fermer votre terminal, auquel cas votre simulateur de serveur s'interompera. Suivez le lien indiqué dans les dernières lignes de votre terminal pour vous diriger vers votre espace local. L'interface se présente comme celle que vous trouverez sur le web. Votre travail sera cependant toujours enregistré et jamais perdu même si vous le consultez après plusieurs jours </li>\n",
    "        </ol>\n",
    "    </p>\n",
    "</div>\n",
    "</details>"
   ]
  },
  {
   "cell_type": "markdown",
   "id": "sporting-failure",
   "metadata": {},
   "source": [
    "<h1>La bibliothèque PANDAS</h1>\n",
    "<p><code>pandas</code> est (probablement) python analysis datas. C'est une bibliothèque de gestion des données a l'aide de <em>dataframe</em>. Commençons par charger cette bibliothèque à l'aide de de l'alias <code>pd</code>.</p>"
   ]
  },
  {
   "cell_type": "code",
   "execution_count": 3,
   "id": "interstate-raleigh",
   "metadata": {},
   "outputs": [
    {
     "ename": "ModuleNotFoundError",
     "evalue": "No module named 'pandas'",
     "output_type": "error",
     "traceback": [
      "\u001b[1;31m---------------------------------------------------------------------------\u001b[0m",
      "\u001b[1;31mModuleNotFoundError\u001b[0m                       Traceback (most recent call last)",
      "Cell \u001b[1;32mIn[3], line 1\u001b[0m\n\u001b[1;32m----> 1\u001b[0m \u001b[38;5;28;01mimport\u001b[39;00m \u001b[38;5;21;01mpandas\u001b[39;00m \u001b[38;5;28;01mas\u001b[39;00m \u001b[38;5;21;01mpd\u001b[39;00m\n",
      "\u001b[1;31mModuleNotFoundError\u001b[0m: No module named 'pandas'"
     ]
    }
   ],
   "source": [
    "import panda as pd"
   ]
  },
  {
   "cell_type": "markdown",
   "id": "removed-zealand",
   "metadata": {},
   "source": [
    "<h3>Les séries</h3>"
   ]
  },
  {
   "cell_type": "markdown",
   "id": "thick-indicator",
   "metadata": {},
   "source": [
    "<p>Pour illustrer cette partie, considérons deux étudiants Alice et Bob avec des notes en mathématiques, statistique et informatique.</p>"
   ]
  },
  {
   "cell_type": "code",
   "execution_count": null,
   "id": "compact-profit",
   "metadata": {},
   "outputs": [
    {
     "ename": "",
     "evalue": "",
     "output_type": "error",
     "traceback": [
      "\u001b[1;31mFailed to start the Kernel. \n",
      "\u001b[1;31mPython est introuvable. Ex�cutez sans argument pour proc�der � l. \n",
      "\u001b[1;31mView Jupyter <a href='command:jupyter.viewOutput'>log</a> for further details."
     ]
    }
   ],
   "source": [
    "Alice={\n",
    "    'Math':15,\n",
    "    'Stat':18,\n",
    "    'Proba':8\n",
    "}\n",
    "Bob={\n",
    "    'Math':10.5,\n",
    "    'Stat':9,\n",
    "    'Proba':10,\n",
    "    'Info':17\n",
    "}\n",
    "print(\"Alice =\", Alice)\n",
    "print(\"Bob =\", Bob)"
   ]
  },
  {
   "cell_type": "markdown",
   "id": "worst-mustang",
   "metadata": {},
   "source": [
    "<p>Le premier outil que <code>pandas</code> nous offre est la création de <code>serie</code> que l'on peut extraire d'un jeu de donnée à l'aide la fonction eponyme.</p>"
   ]
  },
  {
   "cell_type": "code",
   "execution_count": null,
   "id": "boring-rally",
   "metadata": {},
   "outputs": [
    {
     "ename": "",
     "evalue": "",
     "output_type": "error",
     "traceback": [
      "\u001b[1;31mFailed to start the Kernel. \n",
      "\u001b[1;31mPython est introuvable. Ex�cutez sans argument pour proc�der � l. \n",
      "\u001b[1;31mView Jupyter <a href='command:jupyter.viewOutput'>log</a> for further details."
     ]
    }
   ],
   "source": [
    "import pandas as pd\n",
    "serieAlice = pd.Series(Alice)\n",
    "# print(serieAlice)\n",
    "serieBob = pd.Series(Bob)\n",
    "print(serieAlice)"
   ]
  },
  {
   "cell_type": "markdown",
   "id": "distributed-limitation",
   "metadata": {},
   "source": [
    "<p>Affichons cette série.</p>"
   ]
  },
  {
   "cell_type": "code",
   "execution_count": null,
   "id": "photographic-growing",
   "metadata": {},
   "outputs": [
    {
     "ename": "",
     "evalue": "",
     "output_type": "error",
     "traceback": [
      "\u001b[1;31mFailed to start the Kernel. \n",
      "\u001b[1;31mPython est introuvable. Ex�cutez sans argument pour proc�der � l. \n",
      "\u001b[1;31mView Jupyter <a href='command:jupyter.viewOutput'>log</a> for further details."
     ]
    }
   ],
   "source": [
    "print(serieBob)"
   ]
  },
  {
   "cell_type": "markdown",
   "id": "shared-regular",
   "metadata": {},
   "source": [
    "<p>On constate que python (et jupyter) affiche les données de Alice en deux colonnes (parfaitement alignées) contenant dans la première le nom des <em>étiquettes</em> des données (le nom des matières) et la seconde la valeur des données (les notes).</p>\n",
    "\n",
    "<p>Vous constaterez que le <code>print</code> a également préciser le type de la donnée (<code>dtype</code> qui sont ici des entiers).</p>\n",
    "\n",
    "<p>Affichez la série de <code>bob</code>.</p>"
   ]
  },
  {
   "cell_type": "code",
   "execution_count": null,
   "id": "loaded-photographer",
   "metadata": {},
   "outputs": [
    {
     "ename": "",
     "evalue": "",
     "output_type": "error",
     "traceback": [
      "\u001b[1;31mFailed to start the Kernel. \n",
      "\u001b[1;31mPython est introuvable. Ex�cutez sans argument pour proc�der � l. \n",
      "\u001b[1;31mView Jupyter <a href='command:jupyter.viewOutput'>log</a> for further details."
     ]
    }
   ],
   "source": [
    "print(serieBob)"
   ]
  },
  {
   "cell_type": "markdown",
   "id": "convertible-accident",
   "metadata": {},
   "source": [
    "<p><em>Observez que le type des données est différent</em>.</p>"
   ]
  },
  {
   "cell_type": "markdown",
   "id": "opposite-zealand",
   "metadata": {},
   "source": [
    "<p>il est possible de récupérer d'une par les étiquettes et d'autre par les données. Ce sont les méthodes <code>index</code> et <code>array</code>.</p>"
   ]
  },
  {
   "cell_type": "code",
   "execution_count": null,
   "id": "personal-gazette",
   "metadata": {},
   "outputs": [
    {
     "ename": "",
     "evalue": "",
     "output_type": "error",
     "traceback": [
      "\u001b[1;31mFailed to start the Kernel. \n",
      "\u001b[1;31mPython est introuvable. Ex�cutez sans argument pour proc�der � l. \n",
      "\u001b[1;31mView Jupyter <a href='command:jupyter.viewOutput'>log</a> for further details."
     ]
    }
   ],
   "source": [
    "print(serieAlice.index) "
   ]
  },
  {
   "cell_type": "code",
   "execution_count": null,
   "id": "perfect-kingdom",
   "metadata": {},
   "outputs": [
    {
     "ename": "",
     "evalue": "",
     "output_type": "error",
     "traceback": [
      "\u001b[1;31mFailed to start the Kernel. \n",
      "\u001b[1;31mPython est introuvable. Ex�cutez sans argument pour proc�der � l. \n",
      "\u001b[1;31mView Jupyter <a href='command:jupyter.viewOutput'>log</a> for further details."
     ]
    }
   ],
   "source": [
    "print(serieBob.array)"
   ]
  },
  {
   "cell_type": "markdown",
   "id": "sustainable-space",
   "metadata": {},
   "source": [
    "<p>Vous observez que ces listes sont des types particuliers de <code>pandas</code>. Gardez en tête qu'ils se comportent comme des listes classique (vous pouvez les caster en <code>list</code> si vous le souhaitez) et que vous pouvez appliquer les outils classique sur les listes.</p>"
   ]
  },
  {
   "cell_type": "code",
   "execution_count": null,
   "id": "naval-appendix",
   "metadata": {},
   "outputs": [
    {
     "ename": "",
     "evalue": "",
     "output_type": "error",
     "traceback": [
      "\u001b[1;31mFailed to start the Kernel. \n",
      "\u001b[1;31mPython est introuvable. Ex�cutez sans argument pour proc�der � l. \n",
      "\u001b[1;31mView Jupyter <a href='command:jupyter.viewOutput'>log</a> for further details."
     ]
    }
   ],
   "source": [
    "print(\"Il y a\", len(serieAlice.index), \"matières pour Alice\")\n",
    "print(\"Il y a\", len(serieBob.array), \"notes pour Bon\")\n",
    "print(\"La seconde note de Bob est\", serieBob.index[1])\n",
    "print(\"La dernière note qu'Alice a eu vaut\", serieAlice.array[-1])\n",
    "\n",
    "print(\"Les\", len(serieBob.array), \"notes de bob sont\", end=' : ')\n",
    "for noteBob in serieBob.array : \n",
    "    print(noteBob, end=', ')\n",
    "print()\n",
    "print(\"Les matières dans lesquelles Alice a une note sont\", list(serieAlice.index))"
   ]
  },
  {
   "cell_type": "markdown",
   "id": "metallic-relaxation",
   "metadata": {},
   "source": [
    "<p>Vous aurez remarqué qu'Alice et Bob n'ont pas le même nombre de note. Il est possible de préciser, au moment de la récupération des notes (données), les matières (étiquettes) qui nous intérèssent (et même dans l'ordre qui nous intérèsse).</p>"
   ]
  },
  {
   "cell_type": "code",
   "execution_count": null,
   "id": "competent-being",
   "metadata": {},
   "outputs": [
    {
     "ename": "",
     "evalue": "",
     "output_type": "error",
     "traceback": [
      "\u001b[1;31mFailed to start the Kernel. \n",
      "\u001b[1;31mPython est introuvable. Ex�cutez sans argument pour proc�der � l. \n",
      "\u001b[1;31mView Jupyter <a href='command:jupyter.viewOutput'>log</a> for further details."
     ]
    }
   ],
   "source": [
    "serieAlice=pd.Series(Alice, index=['Math', 'Stat', 'Proba'] )\n",
    "print('Alice')\n",
    "print(serieAlice)\n",
    "serieBob=pd.Series(Bob, index=['Math', 'Stat', 'Proba'] )\n",
    "print('Bob')\n",
    "print(serieBob)"
   ]
  },
  {
   "cell_type": "code",
   "execution_count": null,
   "id": "invalid-poison",
   "metadata": {},
   "outputs": [
    {
     "ename": "",
     "evalue": "",
     "output_type": "error",
     "traceback": [
      "\u001b[1;31mFailed to start the Kernel. \n",
      "\u001b[1;31mPython est introuvable. Ex�cutez sans argument pour proc�der � l. \n",
      "\u001b[1;31mView Jupyter <a href='command:jupyter.viewOutput'>log</a> for further details."
     ]
    }
   ],
   "source": [
    "serieAlice=pd.Series(Alice, index=['Math', 'Stat', 'Proba', 'Info', 'INFO'] )\n",
    "print('Alice')\n",
    "print(serieAlice)\n",
    "serieBob=pd.Series(Bob, index=['Math', 'Stat', 'Proba', 'Info', 'INFO'] )\n",
    "print('Bob')\n",
    "print(serieBob)"
   ]
  },
  {
   "cell_type": "markdown",
   "id": "quantitative-thinking",
   "metadata": {},
   "source": [
    "<p>Pas de blague ! <code>NaN</code> est pour <em>not a number</em> pour préciser que la donnée n'existe pas.</p>"
   ]
  },
  {
   "cell_type": "markdown",
   "id": "useful-failure",
   "metadata": {},
   "source": [
    "<p>A l'aide d'une boucle <code>for</code> affichez une par une les notes d'Alice (la dernière variable <code>serieAlice</code</p>"
   ]
  },
  {
   "cell_type": "code",
   "execution_count": null,
   "id": "medical-caution",
   "metadata": {},
   "outputs": [
    {
     "ename": "",
     "evalue": "",
     "output_type": "error",
     "traceback": [
      "\u001b[1;31mFailed to start the Kernel. \n",
      "\u001b[1;31mPython est introuvable. Ex�cutez sans argument pour proc�der � l. \n",
      "\u001b[1;31mView Jupyter <a href='command:jupyter.viewOutput'>log</a> for further details."
     ]
    }
   ],
   "source": [
    "for noteAlice in serieAlice.array : \n",
    "    print(noteAlice, end=' ')"
   ]
  },
  {
   "cell_type": "markdown",
   "id": "dangerous-calculator",
   "metadata": {},
   "source": [
    "<p>La fonction <code>isnan</code> de la bibliothèque <code>math</code> permet de tester si une valeur est <code>NaN</code>. En utilisant cette fonction, reprennez votre code précédent et n'afficher que les notes qui existent.</p>"
   ]
  },
  {
   "cell_type": "code",
   "execution_count": null,
   "id": "fifteen-nylon",
   "metadata": {},
   "outputs": [
    {
     "ename": "",
     "evalue": "",
     "output_type": "error",
     "traceback": [
      "\u001b[1;31mFailed to start the Kernel. \n",
      "\u001b[1;31mPython est introuvable. Ex�cutez sans argument pour proc�der � l. \n",
      "\u001b[1;31mView Jupyter <a href='command:jupyter.viewOutput'>log</a> for further details."
     ]
    }
   ],
   "source": [
    "from math import isnan"
   ]
  },
  {
   "cell_type": "code",
   "execution_count": null,
   "id": "dramatic-lawsuit",
   "metadata": {},
   "outputs": [
    {
     "ename": "",
     "evalue": "",
     "output_type": "error",
     "traceback": [
      "\u001b[1;31mFailed to start the Kernel. \n",
      "\u001b[1;31mPython est introuvable. Ex�cutez sans argument pour proc�der � l. \n",
      "\u001b[1;31mView Jupyter <a href='command:jupyter.viewOutput'>log</a> for further details."
     ]
    }
   ],
   "source": [
    "for noteAlice in serieAlice.array : \n",
    "    if(not(isnan(noteAlice))) : print(noteAlice, end=' ')"
   ]
  },
  {
   "cell_type": "markdown",
   "id": "center-sarah",
   "metadata": {},
   "source": [
    "<p>Ecrire la fonction <code>dataManquantes(serie)</code> qui renvoie la liste des étiquettes des data manquante dans la série.</p>"
   ]
  },
  {
   "cell_type": "code",
   "execution_count": null,
   "id": "thrown-crack",
   "metadata": {},
   "outputs": [
    {
     "ename": "",
     "evalue": "",
     "output_type": "error",
     "traceback": [
      "\u001b[1;31mFailed to start the Kernel. \n",
      "\u001b[1;31mPython est introuvable. Ex�cutez sans argument pour proc�der � l. \n",
      "\u001b[1;31mView Jupyter <a href='command:jupyter.viewOutput'>log</a> for further details."
     ]
    }
   ],
   "source": [
    "def dataManquantes(serie) : \n",
    "    return []"
   ]
  },
  {
   "cell_type": "code",
   "execution_count": null,
   "id": "verified-density",
   "metadata": {},
   "outputs": [
    {
     "ename": "",
     "evalue": "",
     "output_type": "error",
     "traceback": [
      "\u001b[1;31mFailed to start the Kernel. \n",
      "\u001b[1;31mPython est introuvable. Ex�cutez sans argument pour proc�der � l. \n",
      "\u001b[1;31mView Jupyter <a href='command:jupyter.viewOutput'>log</a> for further details."
     ]
    }
   ],
   "source": [
    "print(\"Notes manquantes pour Alice :\", dataManquantes(serieAlice))\n",
    "print(\"Notes manquantes pour Bob :\", dataManquantes(serieBob))"
   ]
  },
  {
   "cell_type": "markdown",
   "id": "unsigned-hypothetical",
   "metadata": {},
   "source": [
    "<h3>Les cadres de données</h3>\n",
    "<p>Les cadres de données ou plus communement les <strong>dataframe</strong> sont des séries multidimensionnelles. Considérons l'exemple suivant.</p>"
   ]
  },
  {
   "cell_type": "code",
   "execution_count": null,
   "id": "divided-trader",
   "metadata": {},
   "outputs": [
    {
     "ename": "",
     "evalue": "",
     "output_type": "error",
     "traceback": [
      "\u001b[1;31mFailed to start the Kernel. \n",
      "\u001b[1;31mPython est introuvable. Ex�cutez sans argument pour proc�der � l. \n",
      "\u001b[1;31mView Jupyter <a href='command:jupyter.viewOutput'>log</a> for further details."
     ]
    }
   ],
   "source": [
    "Alice={\n",
    "    'Math':15,\n",
    "    'Stat':18,\n",
    "    'Proba':8\n",
    "}\n",
    "Bob={\n",
    "    'Math':10.5,\n",
    "    'Stat':9,\n",
    "    'Proba':10,\n",
    "    'Info':17\n",
    "}\n",
    "\n",
    "CLASSE={\n",
    "    \"Alice\" : Alice, \n",
    "    \"Bob\" : Bob\n",
    "}"
   ]
  },
  {
   "cell_type": "markdown",
   "id": "unusual-warren",
   "metadata": {},
   "source": [
    "<p>La fonction <code>DataFrame</code> transforme cette donnée un objet (plus structuré) de <code>pandas</code>.</p>"
   ]
  },
  {
   "cell_type": "code",
   "execution_count": null,
   "id": "cardiac-vegetation",
   "metadata": {},
   "outputs": [
    {
     "ename": "",
     "evalue": "",
     "output_type": "error",
     "traceback": [
      "\u001b[1;31mFailed to start the Kernel. \n",
      "\u001b[1;31mPython est introuvable. Ex�cutez sans argument pour proc�der � l. \n",
      "\u001b[1;31mView Jupyter <a href='command:jupyter.viewOutput'>log</a> for further details."
     ]
    }
   ],
   "source": [
    "Classe = pd.DataFrame(CLASSE)\n",
    "print(Classe)"
   ]
  },
  {
   "cell_type": "markdown",
   "id": "opened-adult",
   "metadata": {},
   "source": [
    "<p>Comme pour les tableaux à double entrée, on peut récupérer les données (un étudiant) en précisant l'étiquette de cette donnée. L'objet que l'on récupère est une série.</p>"
   ]
  },
  {
   "cell_type": "code",
   "execution_count": null,
   "id": "threatened-filing",
   "metadata": {},
   "outputs": [
    {
     "ename": "",
     "evalue": "",
     "output_type": "error",
     "traceback": [
      "\u001b[1;31mFailed to start the Kernel. \n",
      "\u001b[1;31mPython est introuvable. Ex�cutez sans argument pour proc�der � l. \n",
      "\u001b[1;31mView Jupyter <a href='command:jupyter.viewOutput'>log</a> for further details."
     ]
    }
   ],
   "source": [
    "print(Classe['Bob'])"
   ]
  },
  {
   "cell_type": "code",
   "execution_count": null,
   "id": "ahead-circulation",
   "metadata": {},
   "outputs": [
    {
     "ename": "",
     "evalue": "",
     "output_type": "error",
     "traceback": [
      "\u001b[1;31mFailed to start the Kernel. \n",
      "\u001b[1;31mPython est introuvable. Ex�cutez sans argument pour proc�der � l. \n",
      "\u001b[1;31mView Jupyter <a href='command:jupyter.viewOutput'>log</a> for further details."
     ]
    }
   ],
   "source": [
    "print(\"Matières :\", list(Classe.index))\n",
    "for etu in Classe : \n",
    "    print(\"Note de\", etu, \":\", list(Classe[etu].array))"
   ]
  },
  {
   "cell_type": "code",
   "execution_count": null,
   "id": "curious-journey",
   "metadata": {},
   "outputs": [
    {
     "ename": "",
     "evalue": "",
     "output_type": "error",
     "traceback": [
      "\u001b[1;31mFailed to start the Kernel. \n",
      "\u001b[1;31mPython est introuvable. Ex�cutez sans argument pour proc�der � l. \n",
      "\u001b[1;31mView Jupyter <a href='command:jupyter.viewOutput'>log</a> for further details."
     ]
    }
   ],
   "source": [
    "from random import randint\n",
    "data={}\n",
    "mat=['Note '+str(i+1) for i in range(5)]\n",
    "etu=['Etudiant '+str(i+1) for i in range(30)]\n",
    "for m in mat : \n",
    "    X={}\n",
    "    for x in etu : X[x]=randint(0, 40)/2\n",
    "    data[m]=X\n",
    "print(data)"
   ]
  },
  {
   "cell_type": "markdown",
   "id": "cooperative-screening",
   "metadata": {},
   "source": [
    "<p>Voici des notes pour 5 matières pour une classe de 30 étudiants. Proposer un programme transformant ces données en dataframe avec les index qui sont les matières.</p>"
   ]
  },
  {
   "cell_type": "code",
   "execution_count": null,
   "id": "respected-diesel",
   "metadata": {},
   "outputs": [
    {
     "ename": "",
     "evalue": "",
     "output_type": "error",
     "traceback": [
      "\u001b[1;31mFailed to start the Kernel. \n",
      "\u001b[1;31mPython est introuvable. Ex�cutez sans argument pour proc�der � l. \n",
      "\u001b[1;31mView Jupyter <a href='command:jupyter.viewOutput'>log</a> for further details."
     ]
    }
   ],
   "source": [
    "data = {\n",
    "    'Note 1': {'Etudiant 1': 11.0, 'Etudiant 2': 5.5, 'Etudiant 3': 8.0, 'Etudiant 4': 8.5, 'Etudiant 5': 15.0, 'Etudiant 6': 18.0, 'Etudiant 7': 7.5, 'Etudiant 8': 15.5, 'Etudiant 9': 17.5, 'Etudiant 10': 13.0, 'Etudiant 11': 9.0, 'Etudiant 12': 19.0, 'Etudiant 13': 15.5, 'Etudiant 14': 7.0, 'Etudiant 15': 15.5, 'Etudiant 16': 17.0, 'Etudiant 17': 19.5, 'Etudiant 18': 17.5, 'Etudiant 19': 4.0, 'Etudiant 20': 20.0, 'Etudiant 21': 2.5, 'Etudiant 22': 0.5, 'Etudiant 23': 0.0, 'Etudiant 24': 5.0, 'Etudiant 25': 7.0, 'Etudiant 26': 15.0, 'Etudiant 27': 18.0, 'Etudiant 28': 11.0, 'Etudiant 29': 8.0, 'Etudiant 30': 1.0}, \n",
    "    'Note 2': {'Etudiant 1': 4.0, 'Etudiant 2': 7.5, 'Etudiant 3': 5.5, 'Etudiant 4': 2.0, 'Etudiant 5': 8.0, 'Etudiant 6': 8.5, 'Etudiant 7': 7.0, 'Etudiant 8': 0.0, 'Etudiant 9': 3.5, 'Etudiant 10': 8.0, 'Etudiant 11': 9.5, 'Etudiant 12': 20.0, 'Etudiant 13': 18.0, 'Etudiant 14': 12.0, 'Etudiant 15': 0.5, 'Etudiant 16': 18.0, 'Etudiant 17': 3.0, 'Etudiant 18': 16.0, 'Etudiant 19': 2.0, 'Etudiant 20': 12.0, 'Etudiant 21': 7.0, 'Etudiant 22': 2.5, 'Etudiant 23': 2.5, 'Etudiant 24': 6.0, 'Etudiant 25': 18.5, 'Etudiant 26': 3.5, 'Etudiant 27': 3.0, 'Etudiant 28': 18.5, 'Etudiant 29': 15.0, 'Etudiant 30': 10.5}, \n",
    "    'Note 3': {'Etudiant 1': 14.0, 'Etudiant 2': 10.0, 'Etudiant 3': 17.5, 'Etudiant 4': 15.0, 'Etudiant 5': 0.0, 'Etudiant 6': 17.0, 'Etudiant 7': 1.5, 'Etudiant 8': 7.0, 'Etudiant 9': 20.0, 'Etudiant 10': 16.5, 'Etudiant 11': 2.0, 'Etudiant 12': 11.0, 'Etudiant 13': 14.5, 'Etudiant 14': 7.0, 'Etudiant 15': 2.5, 'Etudiant 16': 19.0, 'Etudiant 17': 4.5, 'Etudiant 18': 5.0, 'Etudiant 19': 19.0, 'Etudiant 20': 20.0, 'Etudiant 21': 2.5, 'Etudiant 22': 2.0, 'Etudiant 23': 6.0, 'Etudiant 24': 15.0, 'Etudiant 25': 17.0, 'Etudiant 26': 9.5, 'Etudiant 27': 2.0, 'Etudiant 28': 15.5, 'Etudiant 29': 0.5, 'Etudiant 30': 1.0}, \n",
    "    'Note 4': {'Etudiant 1': 5.5, 'Etudiant 2': 12.5, 'Etudiant 3': 6.0, 'Etudiant 4': 16.5, 'Etudiant 5': 9.0, 'Etudiant 6': 3.5, 'Etudiant 7': 19.5, 'Etudiant 8': 18.5, 'Etudiant 9': 2.0, 'Etudiant 10': 7.5, 'Etudiant 11': 9.5, 'Etudiant 12': 8.5, 'Etudiant 13': 7.0, 'Etudiant 14': 11.5, 'Etudiant 15': 15.5, 'Etudiant 16': 13.5, 'Etudiant 17': 18.5, 'Etudiant 18': 13.5, 'Etudiant 19': 4.0, 'Etudiant 20': 12.5, 'Etudiant 21': 15.0, 'Etudiant 22': 19.0, 'Etudiant 23': 6.5, 'Etudiant 24': 16.0, 'Etudiant 25': 10.5, 'Etudiant 26': 19.0, 'Etudiant 27': 3.0, 'Etudiant 28': 7.0, 'Etudiant 29': 19.0, 'Etudiant 30': 15.5}, \n",
    "    'Note 5': {'Etudiant 1': 6.0, 'Etudiant 2': 12.0, 'Etudiant 3': 1.0, 'Etudiant 4': 10.0, 'Etudiant 5': 20.0, 'Etudiant 6': 10.0, 'Etudiant 7': 8.0, 'Etudiant 8': 12.5, 'Etudiant 9': 6.5, 'Etudiant 10': 11.5, 'Etudiant 11': 13.0, 'Etudiant 12': 8.5, 'Etudiant 13': 11.0, 'Etudiant 14': 10.5, 'Etudiant 15': 13.5, 'Etudiant 16': 13.5, 'Etudiant 17': 2.0, 'Etudiant 18': 18.5, 'Etudiant 19': 2.5, 'Etudiant 20': 0.0, 'Etudiant 21': 19.0, 'Etudiant 22': 14.0, 'Etudiant 23': 0.5, 'Etudiant 24': 4.0, 'Etudiant 25': 0.0, 'Etudiant 26': 15.0, 'Etudiant 27': 10.5, 'Etudiant 28': 19.0, 'Etudiant 29': 5.0, 'Etudiant 30': 13.0}\n",
    "}"
   ]
  },
  {
   "cell_type": "code",
   "execution_count": null,
   "id": "surrounded-services",
   "metadata": {},
   "outputs": [
    {
     "ename": "",
     "evalue": "",
     "output_type": "error",
     "traceback": [
      "\u001b[1;31mFailed to start the Kernel. \n",
      "\u001b[1;31mPython est introuvable. Ex�cutez sans argument pour proc�der � l. \n",
      "\u001b[1;31mView Jupyter <a href='command:jupyter.viewOutput'>log</a> for further details."
     ]
    }
   ],
   "source": [
    "import pandas as pd\n",
    "data = {\n",
    "    'Note 1': {'Etudiant 1': 11.0, 'Etudiant 2': 5.5, 'Etudiant 3': 8.0, 'Etudiant 4': 8.5, 'Etudiant 5': 15.0, 'Etudiant 6': 18.0, 'Etudiant 7': 7.5, 'Etudiant 8': 15.5, 'Etudiant 9': 17.5, 'Etudiant 10': 13.0, 'Etudiant 11': 9.0, 'Etudiant 12': 19.0, 'Etudiant 13': 15.5, 'Etudiant 14': 7.0, 'Etudiant 15': 15.5, 'Etudiant 16': 17.0, 'Etudiant 17': 19.5, 'Etudiant 18': 17.5, 'Etudiant 19': 4.0, 'Etudiant 20': 20.0, 'Etudiant 21': 2.5, 'Etudiant 22': 0.5, 'Etudiant 23': 0.0, 'Etudiant 24': 5.0, 'Etudiant 25': 7.0, 'Etudiant 26': 15.0, 'Etudiant 27': 18.0, 'Etudiant 28': 11.0, 'Etudiant 29': 8.0, 'Etudiant 30': 1.0}, \n",
    "    'Note 2': {'Etudiant 1': 4.0, 'Etudiant 2': 7.5, 'Etudiant 3': 5.5, 'Etudiant 4': 2.0, 'Etudiant 5': 8.0, 'Etudiant 6': 8.5, 'Etudiant 7': 7.0, 'Etudiant 8': 0.0, 'Etudiant 9': 3.5, 'Etudiant 10': 8.0, 'Etudiant 11': 9.5, 'Etudiant 12': 20.0, 'Etudiant 13': 18.0, 'Etudiant 14': 12.0, 'Etudiant 15': 0.5, 'Etudiant 16': 18.0, 'Etudiant 17': 3.0, 'Etudiant 18': 16.0, 'Etudiant 19': 2.0, 'Etudiant 20': 12.0, 'Etudiant 21': 7.0, 'Etudiant 22': 2.5, 'Etudiant 23': 2.5, 'Etudiant 24': 6.0, 'Etudiant 25': 18.5, 'Etudiant 26': 3.5, 'Etudiant 27': 3.0, 'Etudiant 28': 18.5, 'Etudiant 29': 15.0, 'Etudiant 30': 10.5}, \n",
    "    'Note 3': {'Etudiant 1': 14.0, 'Etudiant 2': 10.0, 'Etudiant 3': 17.5, 'Etudiant 4': 15.0, 'Etudiant 5': 0.0, 'Etudiant 6': 17.0, 'Etudiant 7': 1.5, 'Etudiant 8': 7.0, 'Etudiant 9': 20.0, 'Etudiant 10': 16.5, 'Etudiant 11': 2.0, 'Etudiant 12': 11.0, 'Etudiant 13': 14.5, 'Etudiant 14': 7.0, 'Etudiant 15': 2.5, 'Etudiant 16': 19.0, 'Etudiant 17': 4.5, 'Etudiant 18': 5.0, 'Etudiant 19': 19.0, 'Etudiant 20': 20.0, 'Etudiant 21': 2.5, 'Etudiant 22': 2.0, 'Etudiant 23': 6.0, 'Etudiant 24': 15.0, 'Etudiant 25': 17.0, 'Etudiant 26': 9.5, 'Etudiant 27': 2.0, 'Etudiant 28': 15.5, 'Etudiant 29': 0.5, 'Etudiant 30': 1.0}, \n",
    "    'Note 4': {'Etudiant 1': 5.5, 'Etudiant 2': 12.5, 'Etudiant 3': 6.0, 'Etudiant 4': 16.5, 'Etudiant 5': 9.0, 'Etudiant 6': 3.5, 'Etudiant 7': 19.5, 'Etudiant 8': 18.5, 'Etudiant 9': 2.0, 'Etudiant 10': 7.5, 'Etudiant 11': 9.5, 'Etudiant 12': 8.5, 'Etudiant 13': 7.0, 'Etudiant 14': 11.5, 'Etudiant 15': 15.5, 'Etudiant 16': 13.5, 'Etudiant 17': 18.5, 'Etudiant 18': 13.5, 'Etudiant 19': 4.0, 'Etudiant 20': 12.5, 'Etudiant 21': 15.0, 'Etudiant 22': 19.0, 'Etudiant 23': 6.5, 'Etudiant 24': 16.0, 'Etudiant 25': 10.5, 'Etudiant 26': 19.0, 'Etudiant 27': 3.0, 'Etudiant 28': 7.0, 'Etudiant 29': 19.0, 'Etudiant 30': 15.5}, \n",
    "    'Note 5': {'Etudiant 1': 6.0, 'Etudiant 2': 12.0, 'Etudiant 3': 1.0, 'Etudiant 4': 10.0, 'Etudiant 5': 20.0, 'Etudiant 6': 10.0, 'Etudiant 7': 8.0, 'Etudiant 8': 12.5, 'Etudiant 9': 6.5, 'Etudiant 10': 11.5, 'Etudiant 11': 13.0, 'Etudiant 12': 8.5, 'Etudiant 13': 11.0, 'Etudiant 14': 10.5, 'Etudiant 15': 13.5, 'Etudiant 16': 13.5, 'Etudiant 17': 2.0, 'Etudiant 18': 18.5, 'Etudiant 19': 2.5, 'Etudiant 20': 0.0, 'Etudiant 21': 19.0, 'Etudiant 22': 14.0, 'Etudiant 23': 0.5, 'Etudiant 24': 4.0, 'Etudiant 25': 0.0, 'Etudiant 26': 15.0, 'Etudiant 27': 10.5, 'Etudiant 28': 19.0, 'Etudiant 29': 5.0, 'Etudiant 30': 13.0}\n",
    "}\n",
    "Classe2 = pd.DataFrame(data)\n",
    "print(Classe2)"
   ]
  },
  {
   "cell_type": "markdown",
   "id": "corresponding-workshop",
   "metadata": {},
   "source": [
    "<h1>Avec excel...</h1>\n",
    "<p>... rien de plus simple ! La fonction <code>read_excel</code> permet de lire et créer un tableau excel et d'associer les noms des indices et des colonnes en fonction des valeurs précisées. Prenons par exemple, les données parcourSup du département STID, dans le fichier <em>PS_STID.xlsx</em>.\n",
    "\n",
    "</p>"
   ]
  },
  {
   "cell_type": "code",
   "execution_count": null,
   "id": "iraqi-western",
   "metadata": {
    "is_executing": true
   },
   "outputs": [
    {
     "ename": "",
     "evalue": "",
     "output_type": "error",
     "traceback": [
      "\u001b[1;31mFailed to start the Kernel. \n",
      "\u001b[1;31mPython est introuvable. Ex�cutez sans argument pour proc�der � l. \n",
      "\u001b[1;31mView Jupyter <a href='command:jupyter.viewOutput'>log</a> for further details."
     ]
    }
   ],
   "source": [
    "import pandas as pd\n",
    "path='PS_SD.xlsx'\n",
    "j = 0\n",
    "df = pd.read_excel(path)\n",
    "df2 = df['Classement']\n",
    "for i in df['Classement']:\n",
    "    if i == 'ECF': j+=1\n",
    "print(j)"
   ]
  },
  {
   "cell_type": "markdown",
   "id": "ebc0893162ec1aa4",
   "metadata": {
    "collapsed": false
   },
   "source": []
  },
  {
   "cell_type": "code",
   "execution_count": null,
   "id": "documented-calcium",
   "metadata": {},
   "outputs": [
    {
     "ename": "",
     "evalue": "",
     "output_type": "error",
     "traceback": [
      "\u001b[1;31mFailed to start the Kernel. \n",
      "\u001b[1;31mPython est introuvable. Ex�cutez sans argument pour proc�der � l. \n",
      "\u001b[1;31mView Jupyter <a href='command:jupyter.viewOutput'>log</a> for further details."
     ]
    }
   ],
   "source": [
    "print(df)"
   ]
  },
  {
   "cell_type": "markdown",
   "id": "moved-desperate",
   "metadata": {},
   "source": [
    "<p>Dans ce tableur, l'indice <em>Classemment</em> indique si le candidat a confirmé son voeu. Si c'est le cas, la valeur vaut <em>ECF</em> sinon elle vaut <em>ENCF</em></p>\n",
    "\n",
    "<p>Combien de voeux ont été confirmé ?</p>"
   ]
  },
  {
   "cell_type": "code",
   "execution_count": null,
   "id": "civil-tunisia",
   "metadata": {},
   "outputs": [
    {
     "ename": "",
     "evalue": "",
     "output_type": "error",
     "traceback": [
      "\u001b[1;31mFailed to start the Kernel. \n",
      "\u001b[1;31mPython est introuvable. Ex�cutez sans argument pour proc�der � l. \n",
      "\u001b[1;31mView Jupyter <a href='command:jupyter.viewOutput'>log</a> for further details."
     ]
    }
   ],
   "source": []
  },
  {
   "cell_type": "markdown",
   "id": "common-feeling",
   "metadata": {},
   "source": [
    "<p>Dans un diagramme circulaire, représenter la répartition des candidats suivant leur département de leur lycée d'origine (attention aux valeur <code>NaN</code>).</p>"
   ]
  },
  {
   "cell_type": "code",
   "execution_count": null,
   "id": "casual-burner",
   "metadata": {},
   "outputs": [
    {
     "ename": "",
     "evalue": "",
     "output_type": "error",
     "traceback": [
      "\u001b[1;31mFailed to start the Kernel. \n",
      "\u001b[1;31mPython est introuvable. Ex�cutez sans argument pour proc�der � l. \n",
      "\u001b[1;31mView Jupyter <a href='command:jupyter.viewOutput'>log</a> for further details."
     ]
    }
   ],
   "source": [
    "from matplotlib.pyplot import *\n",
    "import math\n",
    "import pandas as pd\n",
    "path='PS_SD.xlsx'\n",
    "df = pd.read_excel(path, usecols=['Département établissement'])\n",
    "# df2 =[df['Département établissement']]\n",
    "df2 = [i for i in df['Département établissement']]\n",
    "# print(df)\n",
    "# print(df.columns)\n",
    "# print(df2)\n",
    "i = [j+1 for j in range(95)]\n",
    "# print(i)\n",
    "plot(i, df2)\n",
    "show()"
   ]
  }
 ],
 "metadata": {
  "hide_input": false,
  "kernelspec": {
   "display_name": "C",
   "language": "c",
   "name": "c"
  },
  "language_info": {
   "codemirror_mode": {
    "name": "ipython",
    "version": 3
   },
   "file_extension": ".py",
   "mimetype": "text/x-python",
   "name": "c",
   "nbconvert_exporter": "python",
   "pygments_lexer": "ipython3",
   "version": "0.0.0"
  }
 },
 "nbformat": 4,
 "nbformat_minor": 5
}
